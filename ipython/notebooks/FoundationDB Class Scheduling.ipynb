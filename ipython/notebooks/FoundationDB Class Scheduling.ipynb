{
 "metadata": {
  "name": ""
 },
 "nbformat": 3,
 "nbformat_minor": 0,
 "worksheets": [
  {
   "cells": [
    {
     "cell_type": "code",
     "collapsed": false,
     "input": [
      "import itertools\n",
      "\n",
      "from directory import directory\n",
      "import fdb\n",
      "import fdb.tuple\n",
      "\n",
      "fdb.api_version(100)"
     ],
     "language": "python",
     "metadata": {},
     "outputs": [],
     "prompt_number": 14
    },
    {
     "cell_type": "code",
     "collapsed": false,
     "input": [
      "####################################\n",
      "##        Initialization          ##\n",
      "####################################\n",
      "\n",
      "# Data model:\n",
      "# ('attends', student, class) = ''\n",
      "# ('class', class_name) = seats_left\n",
      "\n",
      "db = fdb.open()\n",
      "scheduling = directory.create_or_open(db, ('scheduling',))\n",
      "course = scheduling['class']\n",
      "attends = scheduling['attends']"
     ],
     "language": "python",
     "metadata": {},
     "outputs": [],
     "prompt_number": 15
    },
    {
     "cell_type": "code",
     "collapsed": false,
     "input": [
      "@fdb.transactional\n",
      "def add_class(tr, c):\n",
      "    tr[course.pack((c,))] = bytes(100)"
     ],
     "language": "python",
     "metadata": {},
     "outputs": [],
     "prompt_number": 16
    },
    {
     "cell_type": "code",
     "collapsed": false,
     "input": [
      "# Generate 1,620 classes like '9:00 chem for dummies'\n",
      "levels = ['intro', 'for dummies', 'remedial', '101',\n",
      "          '201', '301', 'mastery', 'lab', 'seminar']\n",
      "types = ['chem', 'bio', 'cs', 'geometry', 'calc',\n",
      "         'alg', 'film', 'music', 'art', 'dance']\n",
      "times = [str(h) + ':00' for h in range(2, 20)]\n",
      "class_combos = itertools.product(times, types, levels)\n",
      "class_names = [' '.join(tup) for tup in class_combos]"
     ],
     "language": "python",
     "metadata": {},
     "outputs": [],
     "prompt_number": 17
    },
    {
     "cell_type": "code",
     "collapsed": false,
     "input": [
      "@fdb.transactional\n",
      "def init(tr):\n",
      "    del tr[:]  # Clear the database\n",
      "    for class_name in class_names:\n",
      "        add_class(tr, class_name)"
     ],
     "language": "python",
     "metadata": {},
     "outputs": [],
     "prompt_number": 18
    },
    {
     "cell_type": "code",
     "collapsed": false,
     "input": [
      "####################################\n",
      "##  Class Scheduling Functions    ##\n",
      "####################################"
     ],
     "language": "python",
     "metadata": {},
     "outputs": [],
     "prompt_number": 19
    },
    {
     "cell_type": "code",
     "collapsed": false,
     "input": [
      "@fdb.transactional\n",
      "def available_classes(tr):\n",
      "    return [fdb.tuple.unpack(k)[2] for k, v in tr[course.range(())]\n",
      "            if int(v)]"
     ],
     "language": "python",
     "metadata": {},
     "outputs": [],
     "prompt_number": 20
    },
    {
     "cell_type": "code",
     "collapsed": false,
     "input": [
      "@fdb.transactional\n",
      "def signup(tr, s, c):\n",
      "    rec = attends.pack((s, c))\n",
      "    if tr[rec].present(): return  # already signed up\n",
      "\n",
      "    seats_left = int(tr[course.pack((c,))])\n",
      "    if not seats_left: raise Exception('No remaining seats')\n",
      "\n",
      "    classes = tr[attends.range((s,))]\n",
      "    if len(list(classes)) >= 5: raise Exception('Too many classes')\n",
      "\n",
      "    tr[course.pack((c,))] = bytes(seats_left - 1)\n",
      "    tr[rec] = ''"
     ],
     "language": "python",
     "metadata": {},
     "outputs": [],
     "prompt_number": 21
    },
    {
     "cell_type": "code",
     "collapsed": false,
     "input": [
      "@fdb.transactional\n",
      "def drop(tr, s, c):\n",
      "    rec = attends.pack((s, c))\n",
      "    if not tr[rec].present(): return  # not taking this class\n",
      "    tr[course.pack((c,))] = bytes(int(tr[course.pack((c,))]) + 1)\n",
      "    del tr[rec]"
     ],
     "language": "python",
     "metadata": {},
     "outputs": [],
     "prompt_number": 22
    },
    {
     "cell_type": "code",
     "collapsed": false,
     "input": [
      "@fdb.transactional\n",
      "def switch(tr, s, old_c, new_c):\n",
      "    drop(tr, s, old_c)\n",
      "    signup(tr, s, new_c)"
     ],
     "language": "python",
     "metadata": {},
     "outputs": [],
     "prompt_number": 23
    },
    {
     "cell_type": "code",
     "collapsed": false,
     "input": [
      "####################################\n",
      "##           Testing              ##\n",
      "####################################\n",
      "\n",
      "import random\n",
      "import threading\n",
      "\n",
      "def indecisive_student(i, ops):\n",
      "    student_ID = 's{:d}'.format(i)\n",
      "    all_classes = class_names\n",
      "    my_classes = []\n",
      "\n",
      "    for i in range(ops):\n",
      "        class_count = len(my_classes)\n",
      "        moods = []\n",
      "        if class_count: moods.extend(['drop', 'switch'])\n",
      "        if class_count < 5: moods.append('add')\n",
      "        mood = random.choice(moods)\n",
      "\n",
      "        try:\n",
      "            if not all_classes:\n",
      "                all_classes = available_classes(db)\n",
      "            if mood == 'add':\n",
      "                c = random.choice(all_classes)\n",
      "                signup(db, student_ID, c)\n",
      "                my_classes.append(c)\n",
      "            elif mood == 'drop':\n",
      "                c = random.choice(my_classes)\n",
      "                drop(db, student_ID, c)\n",
      "                my_classes.remove(c)\n",
      "            elif mood == 'switch':\n",
      "                old_c = random.choice(my_classes)\n",
      "                new_c = random.choice(all_classes)\n",
      "                switch(db, student_ID, old_c, new_c)\n",
      "                my_classes.remove(old_c)\n",
      "                my_classes.append(new_c)\n",
      "        except Exception as e:\n",
      "            print e, \"Need to recheck available classes.\"\n",
      "            all_classes = []\n",
      "\n",
      "def run(students, ops_per_student):\n",
      "    threads = [\n",
      "        threading.Thread(target=indecisive_student, args=(i, ops_per_student))\n",
      "        for i in range(students)]\n",
      "    for thr in threads: thr.start()\n",
      "    for thr in threads: thr.join()\n",
      "    print \"Ran\", students * ops_per_student, \"transactions\""
     ],
     "language": "python",
     "metadata": {},
     "outputs": [],
     "prompt_number": 24
    },
    {
     "cell_type": "code",
     "collapsed": false,
     "input": [
      "if __name__ == \"__main__\":\n",
      "    init(db)\n",
      "    print \"initialized\"\n",
      "    run(10, 10)"
     ],
     "language": "python",
     "metadata": {},
     "outputs": [
      {
       "output_type": "stream",
       "stream": "stdout",
       "text": [
        "initialized\n",
        "Ran"
       ]
      },
      {
       "output_type": "stream",
       "stream": "stdout",
       "text": [
        " 100 transactions\n"
       ]
      }
     ],
     "prompt_number": 25
    },
    {
     "cell_type": "code",
     "collapsed": false,
     "input": [],
     "language": "python",
     "metadata": {},
     "outputs": []
    }
   ],
   "metadata": {}
  }
 ]
}